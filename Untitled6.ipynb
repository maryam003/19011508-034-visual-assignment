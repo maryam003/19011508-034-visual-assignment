{
  "nbformat": 4,
  "nbformat_minor": 0,
  "metadata": {
    "colab": {
      "name": "Untitled6.ipynb",
      "provenance": [],
      "authorship_tag": "ABX9TyPdla/TwmfJCb4gXVkeywe6",
      "include_colab_link": true
    },
    "kernelspec": {
      "name": "python3",
      "display_name": "Python 3"
    },
    "language_info": {
      "name": "python"
    }
  },
  "cells": [
    {
      "cell_type": "markdown",
      "metadata": {
        "id": "view-in-github",
        "colab_type": "text"
      },
      "source": [
        "<a href=\"https://colab.research.google.com/github/maryam003/19011508-034-visual-assignment/blob/main/Untitled6.ipynb\" target=\"_parent\"><img src=\"https://colab.research.google.com/assets/colab-badge.svg\" alt=\"Open In Colab\"/></a>"
      ]
    },
    {
      "cell_type": "code",
      "metadata": {
        "colab": {
          "base_uri": "https://localhost:8080/"
        },
        "id": "kEpXLAL2I91D",
        "outputId": "76b653fc-b8fc-45cd-b0a1-56b96e54ed7d"
      },
      "source": [
        "from math import pi\n",
        "maryam= float(input(\"give the radius of circle\"))\n",
        "print(\"area\"+str (maryam) +\"is\"+str (pi*maryam**2))"
      ],
      "execution_count": 2,
      "outputs": [
        {
          "output_type": "stream",
          "text": [
            "give the radius of circle7\n",
            "area7.0is153.93804002589985\n"
          ],
          "name": "stdout"
        }
      ]
    },
    {
      "cell_type": "code",
      "metadata": {
        "colab": {
          "base_uri": "https://localhost:8080/"
        },
        "id": "PBUp7nxPPPdR",
        "outputId": "08b2fcd0-f949-4f7a-92a5-571604511c24"
      },
      "source": [
        "maryam=input(\"enter a number\")\n",
        "list=maryam.split(\",\")\n",
        "tuple=tuple(list)\n",
        "print('list',list)\n",
        "print('tuple',tuple)"
      ],
      "execution_count": 3,
      "outputs": [
        {
          "output_type": "stream",
          "text": [
            "enter a number3,6,7,8,2\n",
            "list ['3', '6', '7', '8', '2']\n",
            "tuple ('3', '6', '7', '8', '2')\n"
          ],
          "name": "stdout"
        }
      ]
    },
    {
      "cell_type": "code",
      "metadata": {
        "colab": {
          "base_uri": "https://localhost:8080/"
        },
        "id": "550QJpZxRwOY",
        "outputId": "a8092df2-f89d-46db-baa2-773fd1a65bbf"
      },
      "source": [
        "def position(a):\n",
        "  if len(a)== len(set(a)):\n",
        "    return True\n",
        "  else:\n",
        "    return False;\n",
        "print(position([3,7,8,10,40]))\n",
        "print(position([5,7,778,99,34,90]))"
      ],
      "execution_count": 5,
      "outputs": [
        {
          "output_type": "stream",
          "text": [
            "True\n",
            "True\n"
          ],
          "name": "stdout"
        }
      ]
    },
    {
      "cell_type": "code",
      "metadata": {
        "colab": {
          "base_uri": "https://localhost:8080/"
        },
        "id": "lM1rbjtdVRyK",
        "outputId": "f734984e-c65f-4b95-c916-e60c5e869dba"
      },
      "source": [
        "def remove_nums(int_list):\n",
        "  #list starts with 0 index\n",
        "  position = 4-1\n",
        "  idx = 0\n",
        "  len_list = (len(int_list))\n",
        "  while len_list>0:\n",
        "    idx = (position+idx)%len_list\n",
        "    print(int_list.pop(idx))\n",
        "    len_list -=1\n",
        "nums = [70,30,40,10,20]\n",
        "remove_nums(nums)"
      ],
      "execution_count": 6,
      "outputs": [
        {
          "output_type": "stream",
          "text": [
            "10\n",
            "40\n",
            "20\n",
            "30\n",
            "70\n"
          ],
          "name": "stdout"
        }
      ]
    }
  ]
}